{
 "cells": [
  {
   "cell_type": "code",
   "execution_count": 7,
   "metadata": {},
   "outputs": [],
   "source": [
    "import numpy as np\n",
    "import pandas as pd\n",
    "import matplotlib.pyplot as plt\n",
    "%matplotlib inline\n",
    "from sklearn import datasets, linear_model\n",
    "from sklearn.model_selection import train_test_split\n",
    "from sklearn.metrics import mean_squared_error, r2_score, accuracy_score\n",
    "from sklearn.preprocessing import MinMaxScaler\n",
    "from sklearn import svm\n",
    "from sklearn import gaussian_process\n",
    "from sklearn import discriminant_analysis\n",
    "from sklearn import neighbors\n",
    "\n",
    "\n",
    "def classify(clf, X_train, X_test, y_train, y_test):\n",
    "    clf.fit(X_train, y_train)\n",
    "    prediction = clf.predict(X_test)\n",
    "    return clf, accuracy_score(y_test, prediction), mean_squared_error(y_test, prediction),r2_score(y_test, prediction)"
   ]
  },
  {
   "cell_type": "code",
   "execution_count": 8,
   "metadata": {},
   "outputs": [],
   "source": []
  },
  {
   "cell_type": "code",
   "execution_count": 9,
   "metadata": {},
   "outputs": [
    {
     "name": "stdout",
     "output_type": "stream",
     "text": [
      "<class 'sklearn.svm.classes.SVC'>\n",
      "0.90619047619\n",
      "0.0938095238095\n",
      "0.60783311718\n",
      "<class 'sklearn.discriminant_analysis.QuadraticDiscriminantAnalysis'>\n",
      "0.865714285714\n",
      "0.134285714286\n",
      "0.432809682201\n",
      "<class 'sklearn.gaussian_process.gpc.GaussianProcessClassifier'>\n",
      "0.904047619048\n",
      "0.0959523809524\n",
      "0.598294361597\n",
      "<class 'sklearn.linear_model.logistic.LogisticRegression'>\n",
      "0.902857142857\n",
      "0.0971428571429\n",
      "0.593894782379\n",
      "<class 'sklearn.neighbors.classification.KNeighborsClassifier'>\n",
      "0.941428571429\n",
      "0.0585714285714\n",
      "0.754355981525\n"
     ]
    }
   ],
   "source": [
    "for i in classifiers:\n",
    "    performance[str(type(i))] = {'clf':[], 'accuracy_score':[], 'mse' :[], 'r2':[]}\n",
    "for j in range(0,100):\n",
    "    train = pd.read_csv('regression_3.csv')\n",
    "    test = pd.read_csv('regression_3_test.csv')\n",
    "    data = train.append(test)\n",
    "    data = data.reset_index().drop(['index'], axis=1)\n",
    "    y = data.falling\n",
    "    X = data.drop(['falling', 'position'], axis=1)\n",
    "    scaler = MinMaxScaler()\n",
    "    X_scaled = scaler.fit(X)\n",
    "    X_scaled = scaler.transform(X)\n",
    "    X_train, X_test, y_train, y_test = train_test_split(X_scaled, y)\n",
    "    for i in classifiers:\n",
    "        clf, accuracy_score_value, mse_value, r2_value = classify(i,X_train, X_test, y_train, y_test)\n",
    "        performance[str(type(i))]['clf'].append(clf)\n",
    "        performance[str(type(i))]['accuracy_score'].append(accuracy_score_value)\n",
    "        performance[str(type(i))]['mse'].append(mse_value)\n",
    "        performance[str(type(i))]['r2'].append(r2_value)\n",
    "for i in classifiers:\n",
    "    performance[str(type(i))]['avg_score'] = np.average(performance[str(type(i))]['accuracy_score'])\n",
    "    performance[str(type(i))]['avg_mse'] = np.average(performance[str(type(i))]['mse'])\n",
    "    performance[str(type(i))]['avg_r2'] = np.average(performance[str(type(i))]['r2'])\n",
    "for i in performance:\n",
    "    print i\n",
    "    print performance[i]['avg_score']\n",
    "    print performance[i]['avg_mse']\n",
    "    print performance[i]['avg_r2']"
   ]
  },
  {
   "cell_type": "code",
   "execution_count": 10,
   "metadata": {},
   "outputs": [],
   "source": []
  },
  {
   "cell_type": "code",
   "execution_count": 11,
   "metadata": {},
   "outputs": [
    {
     "data": {
      "text/plain": [
       "['scaler2.pkl']"
      ]
     },
     "execution_count": 11,
     "metadata": {},
     "output_type": "execute_result"
    }
   ],
   "source": []
  },
  {
   "cell_type": "code",
   "execution_count": 12,
   "metadata": {},
   "outputs": [
    {
     "data": {
      "text/plain": [
       "array([  1.08500000e+03,   1.12903226e+00,   1.11594959e-03,\n",
       "         1.17798088e-07,   9.06369538e-12,   1.45312669e-11,\n",
       "         1.46562876e-22,  -4.94691713e-15,   7.95629825e-23,\n",
       "         8.63302882e+03])"
      ]
     },
     "execution_count": 12,
     "metadata": {},
     "output_type": "execute_result"
    }
   ],
   "source": [
    "X.loc[0].values"
   ]
  }
 ],
 "metadata": {
  "kernelspec": {
   "display_name": "Python 2",
   "language": "python",
   "name": "python2"
  },
  "language_info": {
   "codemirror_mode": {
    "name": "ipython",
    "version": 2
   },
   "file_extension": ".py",
   "mimetype": "text/x-python",
   "name": "python",
   "nbconvert_exporter": "python",
   "pygments_lexer": "ipython2",
   "version": "2.7.14"
  }
 },
 "nbformat": 4,
 "nbformat_minor": 2
}
