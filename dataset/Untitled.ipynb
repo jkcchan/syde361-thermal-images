{
 "cells": [
  {
   "cell_type": "code",
   "execution_count": 1,
   "metadata": {},
   "outputs": [],
   "source": [
    "import numpy as np\n",
    "import matplotlib.pyplot as plt\n",
    "import seaborn\n",
    "import numpy as np\n",
    "from sklearn.discriminant_analysis import LinearDiscriminantAnalysis\n",
    "import os\n",
    "%matplotlib inline"
   ]
  },
  {
   "cell_type": "code",
   "execution_count": 11,
   "metadata": {},
   "outputs": [],
   "source": [
    "from skimage.io import imread\n",
    "#from skimage.transform import resize\n",
    "\n",
    "sitting = []\n",
    "standing = []\n",
    "lying = []\n",
    "for root, dirs, files in os.walk('lying/'):\n",
    "    for file in files:\n",
    "        img = imread('lying/' + file)\n",
    "        img = np.array(img)\n",
    "        lying.append(img)\n",
    "lying = np.array(lying)"
   ]
  },
  {
   "cell_type": "code",
   "execution_count": 14,
   "metadata": {},
   "outputs": [
    {
     "name": "stdout",
     "output_type": "stream",
     "text": [
      "(30, 60, 80, 3)\n",
      "(30, 60, 80, 3)\n",
      "(30, 60, 80, 3)\n"
     ]
    }
   ],
   "source": [
    "print(sitting.shape)\n",
    "print(standing.shape)\n",
    "print(lying.shape)"
   ]
  },
  {
   "cell_type": "code",
   "execution_count": 13,
   "metadata": {},
   "outputs": [],
   "source": [
    "np.save('sitting.npy', sitting)\n",
    "np.save('standing.npy', standing)\n",
    "np.save('lying.npy', lying)"
   ]
  }
 ],
 "metadata": {
  "kernelspec": {
   "display_name": "Python 3",
   "language": "python",
   "name": "python3"
  },
  "language_info": {
   "codemirror_mode": {
    "name": "ipython",
    "version": 3
   },
   "file_extension": ".py",
   "mimetype": "text/x-python",
   "name": "python",
   "nbconvert_exporter": "python",
   "pygments_lexer": "ipython3",
   "version": "3.6.4"
  }
 },
 "nbformat": 4,
 "nbformat_minor": 2
}
