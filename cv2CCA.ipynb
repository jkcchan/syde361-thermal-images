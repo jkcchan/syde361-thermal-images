{
 "cells": [
  {
   "cell_type": "code",
   "execution_count": 126,
   "metadata": {
    "collapsed": true
   },
   "outputs": [],
   "source": [
    "from skimage import measure\n",
    "import numpy as np\n",
    "import cv2\n",
    "import matplotlib.pyplot as plt\n",
    "import matplotlib.patches as patches\n",
    "\n",
    "%matplotlib inline"
   ]
  },
  {
   "cell_type": "code",
   "execution_count": 127,
   "metadata": {
    "collapsed": true
   },
   "outputs": [],
   "source": [
    "def get_CCA_from_image(image, threshold = 115, show_image=False):\n",
    "    img = cv2.imread(image,0)\n",
    "    h,w = img.shape[:2]\n",
    "\n",
    "    # plt.show()\n",
    "    if show_image:\n",
    "        fig,ax = plt.subplots(1)\n",
    "    # ax.imshow(img,cmap='gray')\n",
    "\n",
    "    L = measure.label(img)\n",
    "    # print \"Number of components:\", np.max(L)\n",
    "    # print L\n",
    "\n",
    "    ret, thresh = cv2.threshold(img,threshold,255,cv2.THRESH_BINARY)\n",
    "    \n",
    "    output = cv2.connectedComponentsWithStats(thresh, 8, cv2.CV_32S)\n",
    "\n",
    "    # Get the results\n",
    "    # The first cell is the number of labels\n",
    "    num_labels = output[0]\n",
    "    # The second cell is the label matrix\n",
    "    labels = output[1]\n",
    "    # The third cell is the stat matrix\n",
    "    stats = output[2]\n",
    "    # The fourth cell is the centroid matrix\n",
    "    centroids = output[3]\n",
    "\n",
    "#     print num_labels\n",
    "#     print labels, len(labels)\n",
    "#     print stats\n",
    "#     print centroids\n",
    "\n",
    "    # cv2.imshow('image',img)\n",
    "    # cv2.waitKey(0)\n",
    "    # cv2.destroyAllWindows()\n",
    "    # put a red dot, size 40, at 2 locations:\n",
    "    # plt.scatter(x=[centroids[0][0], centroids[1][0]], y=[centroids[0][1], centroids[1][1]], c='r', s=40)\n",
    "    # ax2 = plt.add_subplot(111, aspect='equal')\n",
    "    max_area_index=-1\n",
    "    for i in range(len(stats)):\n",
    "        if stats[i][0]==0 and stats[i][1]==0:\n",
    "            continue\n",
    "        if show_image:\n",
    "            ax.add_patch(\n",
    "                patches.Rectangle(\n",
    "                    (stats[i][0], stats[i][1]),\n",
    "                    stats[i][2],\n",
    "                    stats[i][3],\n",
    "                    fill=False,      # remove background\n",
    "                    color='red'\n",
    "                )\n",
    "            )\n",
    "        if max_area_index==-1:\n",
    "            max_area_index=i\n",
    "        elif stats[i][4] > stats[max_area_index][4]:\n",
    "            max_area_index=i\n",
    "            \n",
    "    # fig2.savefig('rect2.png', dpi=90, bbox_inches='tight')\n",
    "    if show_image:\n",
    "        ax.imshow(thresh, cmap='gray')\n",
    "        plt.show()\n",
    "    #crop\n",
    "    chosen_box = thresh[stats[max_area_index][1]:stats[max_area_index][1]+stats[max_area_index][3],stats[max_area_index][0]:stats[max_area_index][0]+stats[max_area_index][2]]\n",
    "    return stats[max_area_index], chosen_box\n"
   ]
  },
  {
   "cell_type": "code",
   "execution_count": 128,
   "metadata": {
    "collapsed": true
   },
   "outputs": [],
   "source": [
    "def get_ratio_of_image(img):\n",
    "    #ratio of white to black\n",
    "    a=cv2.countNonZero(img)\n",
    "    h,w = img.shape[:2]\n",
    "#     print type(float(a))\n",
    "#     print (float(h)*float(w))\n",
    "    return float(float(a)/(float(h)*float(w)))"
   ]
  },
  {
   "cell_type": "code",
   "execution_count": 146,
   "metadata": {
    "collapsed": true
   },
   "outputs": [],
   "source": [
    "def get_best_threshold(img_filename, start=50, max_steps = 50, alpha=1):\n",
    "    min_ratio = float(\"inf\")\n",
    "    index = -1\n",
    "    final_chosen_box = None\n",
    "    final_stats = []\n",
    "    thresholds = np.arange(start,start+max_steps,alpha)\n",
    "    for i in thresholds:\n",
    "        stats, chosen_box = get_CCA_from_image(img_filename, i, show_image=False)\n",
    "        ratio = get_ratio_of_image(chosen_box)\n",
    "        if ratio < min_ratio:\n",
    "            min_ratio = ratio\n",
    "            index = i\n",
    "            final_chosen_box = chosen_box\n",
    "            final_stats = stats\n",
    "    return index, final_chosen_box, final_stats"
   ]
  },
  {
   "cell_type": "code",
   "execution_count": 130,
   "metadata": {},
   "outputs": [
    {
     "data": {
      "image/png": "[encoded data removed]",
      "text/plain": [
       "<matplotlib.figure.Figure at 0x119566310>"
      ]
     },
     "metadata": {},
     "output_type": "display_data"
    },
    {
     "data": {
      "text/plain": [
       "(array([ 33,   0,  44,  50, 511], dtype=int32),\n",
       " array([[255, 255, 255, ..., 255, 255, 255],\n",
       "        [255, 255, 255, ..., 255, 255, 255],\n",
       "        [255, 255, 255, ..., 255, 255, 255],\n",
       "        ..., \n",
       "        [255, 255, 255, ..., 255, 255, 255],\n",
       "        [255, 255, 255, ..., 255, 255, 255],\n",
       "        [255, 255, 255, ..., 255, 255, 255]], dtype=uint8))"
      ]
     },
     "execution_count": 130,
     "metadata": {},
     "output_type": "execute_result"
    }
   ],
   "source": [
    "# index, chosen_box, stats = get_best_threshold('dataset-2/rgb67.jpg')\n",
    "get_CCA_from_image('dataset-2/rgb67.jpg', 100, show_image=True)\n",
    "# plt.imshow(chosen_box, cmap=\"gray\")\n",
    "# plt.show()"
   ]
  },
  {
   "cell_type": "code",
   "execution_count": 131,
   "metadata": {
    "collapsed": true
   },
   "outputs": [],
   "source": [
    "def get_chosen_box_and_stats(img_filename, threshold):\n",
    "    stats, chosen_box = get_CCA_from_image(img_filename, threshold, show_image=False)\n",
    "    return chosen_box, stats"
   ]
  },
  {
   "cell_type": "code",
   "execution_count": 132,
   "metadata": {},
   "outputs": [
    {
     "data": {
      "text/plain": [
       "[<matplotlib.lines.Line2D at 0x1173f7f10>]"
      ]
     },
     "execution_count": 132,
     "metadata": {},
     "output_type": "execute_result"
    },
    {
     "data": {
      "image/png": "[encoded data removed]",
      "text/plain": [
       "<matplotlib.figure.Figure at 0x117441b50>"
      ]
     },
     "metadata": {},
     "output_type": "display_data"
    }
   ],
   "source": [
    "ratios = []\n",
    "for i in np.arange(80,110,1):\n",
    "    stats, chosen_box = get_CCA_from_image('dataset-1/rgb40.jpg', i, show_image=False)\n",
    "    ratios.append(get_ratio_of_image(chosen_box))\n",
    "plt.plot(ratios)"
   ]
  },
  {
   "cell_type": "code",
   "execution_count": 163,
   "metadata": {},
   "outputs": [
    {
     "name": "stdout",
     "output_type": "stream",
     "text": [
      "['dataset-1/rgb49.jpg', 'dataset-1/rgb48.jpg', 'dataset-1/rgb38.jpg', 'dataset-1/rgb39.jpg', 'dataset-1/rgb29.jpg', 'dataset-1/rgb28.jpg', 'dataset-1/rgb26.jpg', 'dataset-1/rgb32.jpg', 'dataset-1/rgb33.jpg', 'dataset-1/rgb27.jpg', 'dataset-1/rgb31.jpg', 'dataset-1/rgb25.jpg', 'dataset-1/rgb24.jpg', 'dataset-1/rgb30.jpg', 'dataset-1/rgb34.jpg', 'dataset-1/rgb35.jpg', 'dataset-1/rgb23.jpg', 'dataset-1/rgb37.jpg', 'dataset-1/rgb36.jpg', 'dataset-1/rgb22.jpg', 'dataset-1/rgb45.jpg', 'dataset-1/rgb50.jpg', 'dataset-1/rgb44.jpg', 'dataset-1/rgb46.jpg', 'dataset-1/rgb47.jpg', 'dataset-1/rgb43.jpg', 'dataset-1/rgb42.jpg', 'dataset-1/rgb40.jpg', 'dataset-1/rgb41.jpg', 'dataset-2/rgb58.jpg', 'dataset-2/rgb64.jpg', 'dataset-2/rgb70.jpg', 'dataset-2/rgb71.jpg', 'dataset-2/rgb65.jpg', 'dataset-2/rgb59.jpg', 'dataset-2/rgb73.jpg', 'dataset-2/rgb67.jpg', 'dataset-2/rgb66.jpg', 'dataset-2/rgb72.jpg', 'dataset-2/rgb76.jpg', 'dataset-2/rgb62.jpg', 'dataset-2/rgb89.jpg', 'dataset-2/rgb88.jpg', 'dataset-2/rgb63.jpg', 'dataset-2/rgb77.jpg', 'dataset-2/rgb61.jpg', 'dataset-2/rgb75.jpg', 'dataset-2/rgb74.jpg', 'dataset-2/rgb60.jpg', 'dataset-2/rgb79.jpg', 'dataset-2/rgb86.jpg', 'dataset-2/rgb92.jpg', 'dataset-2/rgb87.jpg', 'dataset-2/rgb78.jpg', 'dataset-2/rgb91.jpg', 'dataset-2/rgb85.jpg', 'dataset-2/rgb84.jpg', 'dataset-2/rgb90.jpg', 'dataset-2/rgb53.jpg', 'dataset-2/rgb57.jpg', 'dataset-2/rgb80.jpg', 'dataset-2/rgb81.jpg', 'dataset-2/rgb56.jpg', 'dataset-2/rgb54.jpg', 'dataset-2/rgb68.jpg', 'dataset-2/rgb83.jpg', 'dataset-2/rgb82.jpg', 'dataset-2/rgb69.jpg', 'dataset-2/rgb55.jpg']\n"
     ]
    }
   ],
   "source": [
    "# test_images = [('dataset-2/rgb66.jpg', 91),'dataset-2/rgb67.jpg',('dataset-2/rgb69.jpg', 80),\n",
    "#               ('dataset-4/rgb8.jpg', 40), ('dataset-4/rgb9.jpg', 40), ('dataset-4/rgb10.jpg', 60),\n",
    "#               ('dataset-4/rgb26.jpg', 60),\n",
    "#               ('dataset-5/rgb72.jpg', 72),('dataset-5/rgb73.jpg', 73),('dataset-5/rgb74.jpg', 74)]\n",
    "# # overriding\n",
    "import os\n",
    "#test_images = []\n",
    "for root, dirnames, filenames in os.walk('dataset-2'):\n",
    "    for filename in filenames:\n",
    "        if filename.endswith('jpg'):\n",
    "            test_images.append(root+'/'+filename)\n",
    "print test_images"
   ]
  },
  {
   "cell_type": "code",
   "execution_count": 133,
   "metadata": {
    "collapsed": true
   },
   "outputs": [],
   "source": [
    "def get_original_image_cropped(image, stats):\n",
    "    return image[stats[1]:stats[1]+stats[3],stats[0]:stats[0]+stats[2]]"
   ]
  },
  {
   "cell_type": "code",
   "execution_count": 134,
   "metadata": {},
   "outputs": [
    {
     "data": {
      "image/png": "[encoded data removed]",
      "text/plain": [
       "<matplotlib.figure.Figure at 0x11745b310>"
      ]
     },
     "metadata": {},
     "output_type": "display_data"
    }
   ],
   "source": [
    "image, contours, hierarchy = cv2.findContours(chosen_box, cv2.RETR_EXTERNAL ,cv2.CHAIN_APPROX_SIMPLE)\n",
    "x=[]\n",
    "y=[]\n",
    "# print contours\n",
    "for i in contours[0]:\n",
    "    x.append(i[0][0])\n",
    "    y.append(i[0][1])\n",
    "    plt.imshow(image,cmap='gray')\n",
    "plt.plot(x, y, 'ro')\n",
    "plt.show()"
   ]
  },
  {
   "cell_type": "code",
   "execution_count": 164,
   "metadata": {},
   "outputs": [
    {
     "name": "stdout",
     "output_type": "stream",
     "text": [
      "0.00154176562617 8.19780810508e-07 5.84154978167e-11 6.29104683352e-11 2.14984480723e-20 9.05102815745e-14 -2.87527463379e-21\n"
     ]
    }
   ],
   "source": [
    "boxes = []\n",
    "moments = []\n",
    "use_original_images = True\n",
    "\n",
    "results = []\n",
    "\n",
    "for i in test_images:\n",
    "    if type(i) == tuple:\n",
    "        filename = i[0]\n",
    "        chosen_box, stats  = get_chosen_box_and_stats(i[0],i[1])\n",
    "    else:\n",
    "        filename = i\n",
    "        try:\n",
    "            threshold, chosen_box, stats = get_best_threshold(i)\n",
    "        except:\n",
    "            continue\n",
    "    if use_original_images:\n",
    "        chosen_box_thermal = get_original_image_cropped(cv2.imread(filename,0), stats)\n",
    "        boxes.append(chosen_box_thermal)\n",
    "         \n",
    "        # plt.imshow(chosen_box_thermal)\n",
    "        # plt.show()\n",
    "        \n",
    "        temp_moments = cv2.moments(chosen_box_thermal)\n",
    "        #results.append(cv2.HuMoments(temp_moments))\n",
    "        \n",
    "        zz = []\n",
    "        for _z in cv2.HuMoments(temp_moments):\n",
    "            zz.append(_z[0])\n",
    "        results.append(zz)\n",
    "    else:\n",
    "        boxes.append(chosen_box)\n",
    "        plt.imshow(chosen_box)\n",
    "        plt.show()\n",
    "\n",
    "# for j in boxes:\n",
    "#     moments.append(cv2.moments(j))\n",
    "# for l in moments:\n",
    "#     print cv2.HuMoments(l)\n",
    "\n",
    "# 7 of Hu's tings\n",
    "hu_1 = []\n",
    "hu_2 = []\n",
    "hu_3 = []\n",
    "hu_4 = []\n",
    "hu_5 = []\n",
    "hu_6 = []\n",
    "hu_7 = []\n",
    "\n",
    "for a_result in results:\n",
    "    hu_1.append(a_result[0])\n",
    "    hu_2.append(a_result[1])\n",
    "    hu_3.append(a_result[2])\n",
    "    hu_4.append(a_result[3])\n",
    "    hu_5.append(a_result[4])\n",
    "    hu_6.append(a_result[5])\n",
    "    hu_7.append(a_result[6])\n",
    "\n",
    "print sum(hu_1)/len(hu_1), sum(hu_2)/len(hu_2), sum(hu_3)/len(hu_3), sum(hu_4)/len(hu_4), sum(hu_5)/len(hu_5), sum(hu_6)/len(hu_6), sum(hu_7)/len(hu_7)"
   ]
  },
  {
   "cell_type": "code",
   "execution_count": 74,
   "metadata": {
    "collapsed": true
   },
   "outputs": [],
   "source": [
    "import numpy\n",
    "# proccesing all of them now\n",
    "\n",
    "# load data\n",
    "sitting_data = numpy.load('dataset/sitting.npy')\n",
    "standing_data = numpy.load('dataset/standing.npy')\n",
    "lying_data = numpy.load('dataset/lying.npy')\n",
    "# print sitting_data, standing_data, lying_data"
   ]
  },
  {
   "cell_type": "code",
   "execution_count": null,
   "metadata": {
    "collapsed": true
   },
   "outputs": [],
   "source": []
  },
  {
   "cell_type": "code",
   "execution_count": null,
   "metadata": {
    "collapsed": true
   },
   "outputs": [],
   "source": []
  }
 ],
 "metadata": {
  "kernelspec": {
   "display_name": "Python 2",
   "language": "python",
   "name": "python2"
  },
  "language_info": {
   "codemirror_mode": {
    "name": "ipython",
    "version": 2
   },
   "file_extension": ".py",
   "mimetype": "text/x-python",
   "name": "python",
   "nbconvert_exporter": "python",
   "pygments_lexer": "ipython2",
   "version": "2.7.13"
  }
 },
 "nbformat": 4,
 "nbformat_minor": 2
}
